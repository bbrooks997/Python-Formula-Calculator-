{
 "cells": [
  {
   "cell_type": "code",
   "execution_count": 34,
   "id": "eeb1a95f",
   "metadata": {},
   "outputs": [
    {
     "name": "stdout",
     "output_type": "stream",
     "text": [
      "Please enter the first number 3\n",
      "Please enter the second number 4\n",
      "Please enter the third number 5\n",
      "The sum of the three numbers is 12.0\n"
     ]
    }
   ],
   "source": [
    "x1 = float(input(\"Please enter the first number \")) ## first number is 3 \n",
    "x2 = float(input(\"Please enter the second number \")) ## second number is 4 \n",
    "x3 = float(input(\"Please enter the third number \")) ## third number is 5.5\n",
    "           \n",
    "formula = x1 + x2 + x3                                  ##formula \n",
    "print(\"The equation of the three numbers is \" + str(formula)) ##result of equation "
   ]
  },
  {
   "cell_type": "code",
   "execution_count": 12,
   "id": "5aa6da5c",
   "metadata": {},
   "outputs": [
    {
     "name": "stdout",
     "output_type": "stream",
     "text": [
      "Please enter the value of a: 16\n",
      "Please enter the value of b: 4\n",
      "The data type of x is -75.0\n"
     ]
    }
   ],
   "source": [
    "a = float(input(\"Please enter the value of a: \")) ##first number is 16\n",
    "b = float(input(\"Please enter the value of b: \")) ## second number is 4 \n",
    "\n",
    "x = a/8*5-3**4-8+16/b                             ## formula \n",
    "\n",
    "print(\"The data type of x is \" + str(x))          ## result of equation "
   ]
  },
  {
   "cell_type": "code",
   "execution_count": null,
   "id": "39217c4b",
   "metadata": {},
   "outputs": [],
   "source": []
  }
 ],
 "metadata": {
  "kernelspec": {
   "display_name": "Python 3 (ipykernel)",
   "language": "python",
   "name": "python3"
  },
  "language_info": {
   "codemirror_mode": {
    "name": "ipython",
    "version": 3
   },
   "file_extension": ".py",
   "mimetype": "text/x-python",
   "name": "python",
   "nbconvert_exporter": "python",
   "pygments_lexer": "ipython3",
   "version": "3.11.5"
  }
 },
 "nbformat": 4,
 "nbformat_minor": 5
}
